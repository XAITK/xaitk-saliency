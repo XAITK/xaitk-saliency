{
 "cells": [
  {
   "attachments": {},
   "cell_type": "markdown",
   "id": "43a651a8",
   "metadata": {},
   "source": [
    "# Introduction\n",
    "\n",
    "This notebook shows usage of the xaitk-saliency API to gain insight into the behavior of a trained deep reinforcement learning agent in an Atari 2600 environment.\n",
    "\n",
    "This example is based on [this paper](https://arxiv.org/abs/1711.00138) and the corresponding code in this [Github repository](https://github.com/greydanus/visualize_atari). The authors use the Asynchronous Advantage Actor Critic (A3C) algorithm with a LSTM-CNN policy network to train several agents for automated gameplay in different Atari 2600 games. They also implement a method for generating saliency maps using image perturbation. Here, we will try to reproduce their results using the xaitk-saliency API, focusing on the Breakout-v0 environment.\n",
    "\n",
    "### Table of Contents\n",
    "* [Set Up Environment](#Set-Up-Environment)\n",
    "* [Create Atari Environment](#Create-Atari-Environment)\n",
    "    * [Define Policy Network](#Define-Policy-Network)\n",
    "    * [Download Pretrained Model](#Download-Pretrained-Model)\n",
    "    * [Define Rollout Function](#Define-Rollout-Function)\n",
    "    * [Play Breakout](#Play-Breakout)\n",
    "* [Defining the Application](#Defining-the-Application)\n",
    "    * [Perturbation and Saliency Implementations](#Perturbation-and-Saliency-Implementations)\n",
    "    * [Calling the Application](#Calling-the-Application)\n",
    "\n",
    "#### References\n",
    "1. Greydanus, Samuel, et al. \"Visualizing and Understanding Atari Agents.\" International Conference on Machine Learning. PMLR, 2018.\n",
    "\n",
    "<br>\n",
    "\n",
    "To run this notebook in Colab, use the link below:\n",
    "\n",
    "[![Open In Colab](https://colab.research.google.com/assets/colab-badge.svg)](https://colab.research.google.com/github/XAITK/xaitk-saliency/blob/master/examples/atari_deepRL_saliency.ipynb)"
   ]
  },
  {
   "attachments": {},
   "cell_type": "markdown",
   "id": "700ced8f",
   "metadata": {},
   "source": [
    "# Set Up Environment\n",
    "**Note for Colab users**: after setting up the environment, you may need to \"Restart Runtime\" in order to resolve package version conflicts (see the [README](https://github.com/XAITK/xaitk-saliency/blob/master/examples/README.md#run-the-notebooks-from-colab) for more info)."
   ]
  },
  {
   "cell_type": "code",
   "execution_count": null,
   "id": "411c7c91",
   "metadata": {},
   "outputs": [],
   "source": [
    "import sys  # noqa\n",
    "\n",
    "!{sys.executable} -m pip install -qU pip\n",
    "!{sys.executable} -m pip install -q xaitk-saliency\n",
    "!{sys.executable} -m pip install -q \"torch>=1.9.0\"\n",
    "!{sys.executable} -m pip install -q \"torchvision>=0.10.0\"\n",
    "!{sys.executable} -m pip install -q \"gym[atari,accept-rom-license]==0.26.2\"\n",
    "# Install the libGL-less version of OpenCV.\n",
    "!{sys.executable} -m pip uninstall -qy \"opencv-python\" \"opencv-python-headless\"  # make sure they're both gone.\n",
    "!{sys.executable} -m pip install -q \"opencv-python-headless\""
   ]
  },
  {
   "attachments": {},
   "cell_type": "markdown",
   "id": "d7da5fd3",
   "metadata": {},
   "source": [
    "# Create Atari Environment\n",
    "\n",
    "Here we create the Breakout environment for our agent using Gym.\n",
    "\n",
    "Our agent has 4 different actions to choose from:\n",
    "<br>&nbsp;&nbsp;&nbsp;&nbsp;1. Do nothing\n",
    "<br>&nbsp;&nbsp;&nbsp;&nbsp;2. Fire\n",
    "<br>&nbsp;&nbsp;&nbsp;&nbsp;3. Move right\n",
    "<br>&nbsp;&nbsp;&nbsp;&nbsp;4. Move left"
   ]
  },
  {
   "cell_type": "code",
   "execution_count": 2,
   "id": "acf34caa",
   "metadata": {},
   "outputs": [
    {
     "name": "stdout",
     "output_type": "stream",
     "text": [
      "Action space: ['NOOP', 'FIRE', 'RIGHT', 'LEFT']\n"
     ]
    }
   ],
   "source": [
    "import gym\n",
    "\n",
    "env_name = \"ALE/Breakout-v5\"\n",
    "env = gym.make(env_name)\n",
    "# Set seed for reproducibility\n",
    "env.seed(1)\n",
    "\n",
    "action_space = env.unwrapped.get_action_meanings()\n",
    "print(f\"Action space: {action_space}\")"
   ]
  },
  {
   "attachments": {},
   "cell_type": "markdown",
   "id": "06b5ce04",
   "metadata": {},
   "source": [
    "## Define Policy Network\n",
    "\n",
    "This policy network implementation is taken directly from the author's original implementation. It consists of four convolutional layers, an LSTM layer, and two separate fully-connected layers for the value and policy function predictions."
   ]
  },
  {
   "cell_type": "code",
   "execution_count": 3,
   "id": "df77bc74",
   "metadata": {},
   "outputs": [],
   "source": [
    "import glob\n",
    "\n",
    "import numpy as np\n",
    "import torch\n",
    "import torch.nn as nn\n",
    "import torch.nn.functional as F\n",
    "\n",
    "\n",
    "class NNPolicy(torch.nn.Module):  # an actor-critic neural network\n",
    "    def __init__(self, channels, num_actions) -> None:\n",
    "        super().__init__()\n",
    "        self.conv1 = nn.Conv2d(channels, 32, 3, stride=2, padding=1)\n",
    "        self.conv2 = nn.Conv2d(32, 32, 3, stride=2, padding=1)\n",
    "        self.conv3 = nn.Conv2d(32, 32, 3, stride=2, padding=1)\n",
    "        self.conv4 = nn.Conv2d(32, 32, 3, stride=2, padding=1)\n",
    "        self.lstm = nn.LSTMCell(32 * 5 * 5, 256)\n",
    "        self.critic_linear, self.actor_linear = nn.Linear(256, 1), nn.Linear(256, num_actions)\n",
    "\n",
    "    def forward(self, inputs):\n",
    "        inputs, (hx, cx) = inputs\n",
    "        x = F.elu(self.conv1(inputs))\n",
    "        x = F.elu(self.conv2(x))\n",
    "        x = F.elu(self.conv3(x))\n",
    "        x = F.elu(self.conv4(x))\n",
    "        x = x.view(-1, 32 * 5 * 5)\n",
    "        hx, cx = self.lstm(x, (hx, cx))\n",
    "        return self.critic_linear(hx), self.actor_linear(hx), (hx, cx)\n",
    "\n",
    "    def try_load(self, save_dir, checkpoint=\"*.tar\"):\n",
    "        paths = glob.glob(save_dir + checkpoint)\n",
    "        step = 0\n",
    "        if len(paths) > 0:\n",
    "            ckpts = [int(s.split(\".\")[-2]) for s in paths]\n",
    "            ix = np.argmax(ckpts)\n",
    "            step = ckpts[ix]\n",
    "            self.load_state_dict(torch.load(paths[ix]))\n",
    "        print(\"\\tno saved models\") if step == 0 else print(f\"\\tloaded model: {paths[ix]}\")\n",
    "        return step"
   ]
  },
  {
   "attachments": {},
   "cell_type": "markdown",
   "id": "a27afa00",
   "metadata": {},
   "source": [
    "## Download Pretrained Model\n",
    "\n",
    "The authors provide pretrained agents [here](https://goo.gl/fqwJDB) for the different environments they used (both the \"strong\" and \"overfit\" variants, see the original paper for details). We will use the \"strong\" Breakout agent for our purposes.\n",
    "\n",
    "We provide the Breakout model checkpoint here for easy download, although we refer the reader to the link above which contains a zip file of all the pretrained agents, including both \"strong\" and \"overfit\" agents."
   ]
  },
  {
   "cell_type": "code",
   "execution_count": 4,
   "id": "737cd8c7",
   "metadata": {},
   "outputs": [],
   "source": [
    "import os\n",
    "import urllib.request\n",
    "\n",
    "root_dir = \"data/pretrained_agents/breakout-v0/\"\n",
    "os.makedirs(root_dir, exist_ok=True)\n",
    "model_checkpoint = os.path.join(root_dir, \"strong.40.tar\")\n",
    "\n",
    "_ = urllib.request.urlretrieve(\n",
    "    \"https://data.kitware.com/api/v1/item/62325a1d4acac99f426f21e9/download\",\n",
    "    model_checkpoint,\n",
    ")"
   ]
  },
  {
   "attachments": {},
   "cell_type": "markdown",
   "id": "8126ed86",
   "metadata": {},
   "source": [
    "## Load Pretrained Model\n",
    "\n",
    "Here we load the downloaded model into an instance of the policy function class."
   ]
  },
  {
   "cell_type": "code",
   "execution_count": 5,
   "id": "abbf6ee3",
   "metadata": {},
   "outputs": [
    {
     "name": "stdout",
     "output_type": "stream",
     "text": [
      "\tloaded model: data/pretrained_agents/breakout-v0/strong.40.tar\n"
     ]
    }
   ],
   "source": [
    "model = NNPolicy(channels=1, num_actions=env.action_space.n)\n",
    "model.try_load(root_dir, checkpoint=\"*.tar\")\n",
    "# Seed seed for reproducibility\n",
    "_ = torch.manual_seed(1)"
   ]
  },
  {
   "attachments": {},
   "cell_type": "markdown",
   "id": "ca132d18",
   "metadata": {},
   "source": [
    "## Define Rollout Function\n",
    "\n",
    "This function carries out the pretrained agent's policy for a defined number of frames in our Breakout environment. At each step, the current game frame is run through our policy model to get the predicted best action and the agent takes that action. The state of the game is stored after after each step."
   ]
  },
  {
   "cell_type": "code",
   "execution_count": 6,
   "id": "3e447c5a",
   "metadata": {},
   "outputs": [],
   "source": [
    "import cv2\n",
    "\n",
    "\n",
    "def prepro(img):\n",
    "    \"Standard frame pre-processing based on Greydanus et al., '18'\"\n",
    "    return cv2.resize(src=img[35:195].mean(2), dsize=(80, 80)).astype(np.float32) / 255.0\n",
    "\n",
    "\n",
    "def rollout(model, env, max_ep_len):\n",
    "    history = {\"ins\": [], \"logits\": [], \"values\": [], \"outs\": [], \"hx\": [], \"cx\": []}\n",
    "\n",
    "    state = torch.Tensor(prepro(env.reset()[0]))  # get first state\n",
    "    episode_length, epr, _eploss, done = 0, 0, 0, False  # bookkeeping\n",
    "    hx, cx = torch.zeros(1, 256), torch.zeros(1, 256)\n",
    "\n",
    "    # iterate through each frame in episode\n",
    "    while not done and episode_length <= max_ep_len:\n",
    "        episode_length += 1\n",
    "\n",
    "        # get game state\n",
    "        model_inp = (state.view(1, 1, 80, 80), (hx, cx))\n",
    "\n",
    "        # run through model\n",
    "        value, logit, (hx, cx) = model(model_inp)\n",
    "        hx, cx = hx.data, cx.data\n",
    "\n",
    "        # action probabilities\n",
    "        prob = F.softmax(logit)\n",
    "\n",
    "        # best action\n",
    "        action = prob.max(1)[1].data\n",
    "\n",
    "        # take best action\n",
    "        obs, reward, done, _expert_policy, _ = env.step(action.numpy()[0])\n",
    "\n",
    "        # update reward\n",
    "        state = torch.Tensor(prepro(obs))\n",
    "        epr += reward\n",
    "\n",
    "        # save state\n",
    "        history[\"ins\"].append(obs)  # game state after taking action\n",
    "        history[\"hx\"].append(hx.squeeze(0).data.numpy())  # LSTM hx output\n",
    "        history[\"cx\"].append(cx.squeeze(0).data.numpy())  # LSTM cx output\n",
    "        history[\"logits\"].append(logit.data.numpy()[0])  # actor output\n",
    "        history[\"values\"].append(value.data.numpy()[0])  # critic output\n",
    "        history[\"outs\"].append(prob.data.numpy()[0])  # action probabilities\n",
    "        print(f\"\\tstep # {episode_length}, reward {epr:.0f}\", end=\"\\r\")\n",
    "\n",
    "    return history"
   ]
  },
  {
   "attachments": {},
   "cell_type": "markdown",
   "id": "09c80601",
   "metadata": {},
   "source": [
    "## Play Breakout\n",
    "\n",
    "Our pretrained agent will now play the game for up to 3,000 frames. We will create a short video clip from a slice of the game state so we can see the agent in action. The agent shows a \"tunneling\" behavior, which was also noted by the original authors in the paper referenced above."
   ]
  },
  {
   "cell_type": "code",
   "execution_count": 7,
   "id": "a5e46ac2",
   "metadata": {
    "scrolled": true
   },
   "outputs": [
    {
     "name": "stdout",
     "output_type": "stream",
     "text": [
      "Rolling out policy...\n",
      "\tstep # 2179, reward 258\n",
      "Creating video...\n",
      "Done\n"
     ]
    }
   ],
   "source": [
    "import warnings\n",
    "\n",
    "import matplotlib.pyplot as plt\n",
    "\n",
    "warnings.filterwarnings(\"ignore\")\n",
    "\n",
    "# Play game\n",
    "print(\"Rolling out policy...\")\n",
    "history = rollout(model, env, max_ep_len=3e3)\n",
    "\n",
    "# Create video from frames\n",
    "print(\"\\nCreating video...\")\n",
    "fps = 30\n",
    "w = history[\"ins\"][0].shape[1]\n",
    "h = history[\"ins\"][0].shape[0]\n",
    "out = cv2.VideoWriter(\"data/breakout.mp4\", cv2.VideoWriter_fourcc(*\"vp09\"), fps, (w, h))\n",
    "\n",
    "start_frame = 638\n",
    "end_frame = 1238\n",
    "for i in range(start_frame, end_frame + 1):\n",
    "    frame = cv2.cvtColor(history[\"ins\"][i], cv2.COLOR_RGB2BGR)  # Convert to BRG for cv2 standards\n",
    "    out.write(frame)\n",
    "out.release()\n",
    "\n",
    "print(\"Done\")"
   ]
  },
  {
   "attachments": {},
   "cell_type": "markdown",
   "id": "3421880e",
   "metadata": {},
   "source": [
    "Here we show a single frame from the game."
   ]
  },
  {
   "cell_type": "code",
   "execution_count": 8,
   "id": "21d701ca",
   "metadata": {},
   "outputs": [
    {
     "data": {
      "image/png": "[encoded data removed]",
      "text/plain": [
       "<Figure size 576x864 with 1 Axes>"
      ]
     },
     "metadata": {
      "needs_background": "light"
     },
     "output_type": "display_data"
    }
   ],
   "source": [
    "f = plt.figure(figsize=[8, 12])\n",
    "frame_ix = 1070\n",
    "plt.imshow(history[\"ins\"][frame_ix])\n",
    "for a in f.axes:\n",
    "    a.get_xaxis().set_visible(False)\n",
    "    a.get_yaxis().set_visible(False)\n",
    "plt.show()"
   ]
  },
  {
   "attachments": {},
   "cell_type": "markdown",
   "id": "92ac87ff",
   "metadata": {},
   "source": [
    "Here we show a recorded video from the game. This video is saved as `breakout.mp4` in the current directory.\n",
    "\n",
    "Note that this file will not exist, and the video will not be visible, until the notebook is run."
   ]
  },
  {
   "cell_type": "code",
   "execution_count": 9,
   "id": "188c9b17",
   "metadata": {},
   "outputs": [
    {
     "data": {
      "text/html": [
       "<div align=\"middle\">\n",
       "<video width=\"50%\" controls>\n",
       "      <source src=\"data/breakout.mp4\" type=\"video/mp4\">\n",
       "</video></div>\n"
      ],
      "text/plain": [
       "<IPython.core.display.HTML object>"
      ]
     },
     "metadata": {},
     "output_type": "display_data"
    }
   ],
   "source": [
    "%%HTML\n",
    "<div align=\"middle\">\n",
    "<video width=\"50%\" controls>\n",
    "      <source src=\"data/breakout.mp4\" type=\"video/mp4\">\n",
    "</video></div>"
   ]
  },
  {
   "attachments": {},
   "cell_type": "markdown",
   "id": "928053a1",
   "metadata": {},
   "source": [
    "# Defining the Application\n",
    "\n",
    "Our saliency application has four parameters:\n",
    "<br>&nbsp;&nbsp;&nbsp;&nbsp;`start_frame` - the first frame to perform saliency generation for\n",
    "<br>&nbsp;&nbsp;&nbsp;&nbsp;`end_frame` - the last frame to perform saliency generation for\n",
    "<br>&nbsp;&nbsp;&nbsp;&nbsp;`perturber` - the PerturbImage implementation to use\n",
    "<br>&nbsp;&nbsp;&nbsp;&nbsp;`saliency_gen` - the GenerateClassifierConficdenceSaliency implementation to use\n",
    "\n",
    "The application will create saliency maps for both the actor (policy function) and the critic (value function) for each frame from `start_frame` to `end_frame` using the image perturber and saliency generator that you pass it. Salient parts of each frame will be highlighted in blue for the actor and in red for the critic and a video will be created from this set of highlighted game frames. This gives a single representation for each frame of where both models are looking to make their predictions.\n",
    "\n",
    "To speed up this process, the application utilizes multiple processing threads, one for each frame. This will use a good amount of system memory so be cautious."
   ]
  },
  {
   "cell_type": "code",
   "execution_count": 10,
   "id": "0ca48352",
   "metadata": {},
   "outputs": [],
   "source": [
    "import concurrent.futures\n",
    "import multiprocessing\n",
    "import threading\n",
    "\n",
    "from scipy.ndimage.filters import gaussian_filter\n",
    "\n",
    "from xaitk_saliency import GenerateClassifierConfidenceSaliency, PerturbImage\n",
    "from xaitk_saliency.utils.masking import occlude_image_batch\n",
    "\n",
    "actor_sal_maps = []\n",
    "critic_sal_maps = []\n",
    "\n",
    "print_lock = threading.Lock()  # Lock to control thread printing\n",
    "\n",
    "\n",
    "def gen_sal_maps(img_idx, sal_idx, perturber, saliency_gen, verbose=0) -> None:\n",
    "    \"\"\"\n",
    "    Generates actor and critic saliency maps on a per-frame basis given an image\n",
    "    perturber and a saliency map generation implementation.\n",
    "\n",
    "    img_idx: index of input video frame\n",
    "    sal_idx: index into corresponding global saliency map arrays\n",
    "    perturber: PerturbImage implementation\n",
    "    saliency_gen: GenerateClassifierConfidenceSaliency implementation\n",
    "    verbose: whether or not to print debug statements (default: 0)\n",
    "    \"\"\"\n",
    "    global actor_sal_maps\n",
    "    global critic_sal_maps\n",
    "\n",
    "    # Score reference frame\n",
    "    if verbose:\n",
    "        with print_lock:\n",
    "            print(f\"[{img_idx}]Scoring frame\")\n",
    "\n",
    "    ref_img = history[\"ins\"][img_idx]\n",
    "    ref_img_proc = prepro(ref_img)\n",
    "    hx = torch.tensor(history[\"hx\"][img_idx - 1]).view(1, -1)\n",
    "    cx = torch.tensor(history[\"cx\"][img_idx - 1]).view(1, -1)\n",
    "\n",
    "    ref_img_tensor = torch.tensor(ref_img_proc.reshape(1, 1, 80, 80))\n",
    "    model_inp = (ref_img_tensor, (hx, cx))\n",
    "    ref_value, ref_logit, _ = model(model_inp)\n",
    "    ref_value = ref_value.detach().numpy()[0]\n",
    "    ref_logit = ref_logit.detach().numpy()[0]\n",
    "\n",
    "    # Get image perturbations\n",
    "    if verbose:\n",
    "        with print_lock:\n",
    "            print(f\"[{img_idx}]Perturbing image\")\n",
    "\n",
    "    pert_masks = perturber(ref_img_proc)\n",
    "    blurred_img = gaussian_filter(ref_img_proc, sigma=3)\n",
    "    pert_imgs = occlude_image_batch(ref_img_proc, pert_masks, fill=blurred_img)\n",
    "\n",
    "    pert_values = []\n",
    "    pert_logits = []\n",
    "\n",
    "    # Score perturbed frames\n",
    "    if verbose:\n",
    "        with print_lock:\n",
    "            print(f\"[{img_idx}]Scoring perturbations\")\n",
    "\n",
    "    for pert_img in pert_imgs:\n",
    "        pert_img_tensor = torch.tensor(pert_img.reshape(1, 1, 80, 80))\n",
    "        model_inp = (pert_img_tensor, (hx, cx))\n",
    "        pert_value, pert_logit, _ = model(model_inp)\n",
    "        pert_values.append(pert_value.detach().numpy()[0])\n",
    "        pert_logits.append(pert_logit.detach().numpy()[0])\n",
    "\n",
    "    # Generate actor saliency maps\n",
    "    if verbose:\n",
    "        with print_lock:\n",
    "            print(f\"[{img_idx}]Generating actor saliency maps\")\n",
    "\n",
    "    actor_sal_maps[sal_idx] = saliency_gen(ref_logit, pert_logits, pert_masks)\n",
    "\n",
    "    # Generate critic saliency maps\n",
    "    if verbose:\n",
    "        with print_lock:\n",
    "            print(f\"[{img_idx}]Generating critic saliency maps\")\n",
    "\n",
    "    critic_sal_maps[sal_idx] = saliency_gen(ref_value, pert_values, pert_masks)\n",
    "\n",
    "\n",
    "def visualize_saliency(\n",
    "    frame: np.ndarray,\n",
    "    actor_sal_map: np.ndarray,\n",
    "    critic_sal_map: np.ndarray,\n",
    "):\n",
    "    \"\"\"\n",
    "    Creates visualization of saliency by alpha-blending the provided frame and\n",
    "    saliency maps. The actor and critic saliency maps are scaled to [0,255] to\n",
    "    match the range of the frame and then blended as the blue and red channels\n",
    "    respectively.\n",
    "    \"\"\"\n",
    "\n",
    "    # Scale saliency maps to [0, 255] in respective color channel\n",
    "    sal_colors = np.zeros((210, 160, 3), dtype=np.uint8)\n",
    "    sal_colors[35:195, :, 2] = (255.0 * cv2.resize(src=actor_sal_map, dsize=(160, 160))).astype(\"uint8\")\n",
    "    sal_colors[35:195, :, 0] = (255.0 * cv2.resize(src=critic_sal_map, dsize=(160, 160))).astype(\"uint8\")\n",
    "\n",
    "    return cv2.addWeighted(frame, 0.4, sal_colors, 0.6, 0)\n",
    "\n",
    "\n",
    "def app(\n",
    "    start_frame: int,\n",
    "    end_frame: int,\n",
    "    perturber: PerturbImage,\n",
    "    saliency_gen: GenerateClassifierConfidenceSaliency,\n",
    ") -> None:\n",
    "    global actor_sal_maps\n",
    "    global critic_sal_maps\n",
    "\n",
    "    # Initialize map arrays to correct size\n",
    "    actor_sal_maps = [None] * (end_frame - start_frame + 1)\n",
    "    critic_sal_maps = [None] * (end_frame - start_frame + 1)\n",
    "\n",
    "    # Use threaded computation\n",
    "    def call_wrapper(idx):\n",
    "        return gen_sal_maps(idx, idx - start_frame, perturber, saliency_gen)\n",
    "\n",
    "    tpe = concurrent.futures.ThreadPoolExecutor(max_workers=multiprocessing.cpu_count())\n",
    "    list(tpe.map(call_wrapper, range(start_frame, end_frame + 1)))\n",
    "    tpe.shutdown(wait=True)\n",
    "\n",
    "    # Write out videos\n",
    "    print(\"Creating video\")\n",
    "    fps = 30\n",
    "    vid_writer = cv2.VideoWriter(\"data/breakout_saliency.mp4\", cv2.VideoWriter_fourcc(*\"vp09\"), fps, (w, h))\n",
    "\n",
    "    for img_idx in range(start_frame, end_frame + 1):\n",
    "        sal_idx = img_idx - start_frame\n",
    "\n",
    "        frame = visualize_saliency(history[\"ins\"][img_idx], actor_sal_maps[sal_idx], critic_sal_maps[sal_idx])\n",
    "\n",
    "        frame = cv2.cvtColor(frame, cv2.COLOR_RGB2BGR)  # Convert to BGR to meet cv2 convention\n",
    "\n",
    "        vid_writer.write(frame)\n",
    "\n",
    "    vid_writer.release()\n",
    "\n",
    "    print(\"Done.\")"
   ]
  },
  {
   "attachments": {},
   "cell_type": "markdown",
   "id": "180dfd54",
   "metadata": {},
   "source": [
    "## Perturbation and Saliency Implementations\n",
    "\n",
    "For this example we will use the `SlidingRadial` perturbation implementation with blurring using sigma values of (5,5) and stride of (5,5). Our filled image here will be a blurred version of the original image. We try to use the same parameters as in the original implementation.\n",
    "\n",
    "The `SquaredDifferenceScoring` heatmap generation implementation is used here, following the authors' approach in the paper. This will give an absolute sense of saliency for both the actor and critic models without distinguishing positive vs. negative."
   ]
  },
  {
   "cell_type": "code",
   "execution_count": 11,
   "id": "954163d1",
   "metadata": {},
   "outputs": [],
   "source": [
    "from xaitk_saliency.impls.gen_classifier_conf_sal.squared_difference_scoring import SquaredDifferenceScoring\n",
    "from xaitk_saliency.impls.perturb_image.sliding_radial import SlidingRadial\n",
    "\n",
    "window_perturber = SlidingRadial(radius=(1, 1), stride=(5, 5), sigma=(5, 5))\n",
    "sal_gen = SquaredDifferenceScoring()"
   ]
  },
  {
   "attachments": {},
   "cell_type": "markdown",
   "id": "16e93ceb",
   "metadata": {},
   "source": [
    "## Calling the Application\n",
    "\n",
    "An arbitrary set of frames is chosen for saliency generation using our application and the resulting video is displayed below.\n",
    "\n",
    "From the video it is apparent that the area above the paddle and around the ball seem to be very important to both the value and policy functions. We can also see that the value function is heavily affected by holes in the blocks. This suggests that the agent has learned to create these holes so that it can get the ball behind the blocks to earn a high reward quickly."
   ]
  },
  {
   "cell_type": "code",
   "execution_count": 12,
   "id": "bd9bdbc4",
   "metadata": {
    "scrolled": false
   },
   "outputs": [
    {
     "name": "stdout",
     "output_type": "stream",
     "text": [
      "Creating video\n",
      "Done.\n"
     ]
    }
   ],
   "source": [
    "app(start_frame=638, end_frame=1238, perturber=window_perturber, saliency_gen=sal_gen)"
   ]
  },
  {
   "attachments": {},
   "cell_type": "markdown",
   "id": "32b2698d",
   "metadata": {},
   "source": [
    "Here we show saliency (actor in blue, critic in red) overlaid on a single frame from the game."
   ]
  },
  {
   "cell_type": "code",
   "execution_count": 13,
   "id": "d8c8459d",
   "metadata": {},
   "outputs": [
    {
     "data": {
      "image/png": "[encoded data removed]",
      "text/plain": [
       "<Figure size 576x864 with 1 Axes>"
      ]
     },
     "metadata": {
      "needs_background": "light"
     },
     "output_type": "display_data"
    }
   ],
   "source": [
    "f = plt.figure(figsize=[8, 12])\n",
    "frame_ix = 1070\n",
    "\n",
    "img = history[\"ins\"][frame_ix]\n",
    "\n",
    "viz = visualize_saliency(img, actor_sal_maps[frame_ix - 1020], critic_sal_maps[frame_ix - 1020])\n",
    "\n",
    "plt.imshow(viz)\n",
    "\n",
    "for a in f.axes:\n",
    "    a.get_xaxis().set_visible(False)\n",
    "    a.get_yaxis().set_visible(False)\n",
    "plt.show()"
   ]
  },
  {
   "attachments": {},
   "cell_type": "markdown",
   "id": "985b82c8",
   "metadata": {},
   "source": [
    "Finally, we show a recorded video from the game with overlaid saliency (actor in blue, critic in red). This video is saved as `breakout_saliency.mp4` in the current directory.\n",
    "\n",
    "Note that this file will not exist, and the video will not be visible, until the notebook is run."
   ]
  },
  {
   "cell_type": "code",
   "execution_count": 14,
   "id": "27a20662",
   "metadata": {},
   "outputs": [
    {
     "data": {
      "text/html": [
       "<div align=\"center\">\n",
       "<video width=\"50%\" controls>\n",
       "    <source src=\"data/breakout_saliency.mp4\" type=\"video/mp4\">\n",
       "</video>\n",
       "</div>\n"
      ],
      "text/plain": [
       "<IPython.core.display.HTML object>"
      ]
     },
     "metadata": {},
     "output_type": "display_data"
    }
   ],
   "source": [
    "%%HTML\n",
    "<div align=\"center\">\n",
    "<video width=\"50%\" controls>\n",
    "    <source src=\"data/breakout_saliency.mp4\" type=\"video/mp4\">\n",
    "</video>\n",
    "</div>"
   ]
  }
 ],
 "metadata": {
  "language_info": {
   "codemirror_mode": {
    "name": "ipython",
    "version": 3
   },
   "file_extension": ".py",
   "mimetype": "text/x-python",
   "name": "python",
   "nbconvert_exporter": "python",
   "pygments_lexer": "ipython3",
   "version": "3.9.7"
  }
 },
 "nbformat": 4,
 "nbformat_minor": 5
}
